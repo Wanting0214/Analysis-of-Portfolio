{
 "cells": [
  {
   "cell_type": "code",
   "execution_count": 1,
   "metadata": {},
   "outputs": [],
   "source": [
    "import pandas_datareader.data as web\n",
    "import numpy as np\n",
    "import pandas as pd\n",
    "import matplotlib.pyplot as plt"
   ]
  },
  {
   "cell_type": "code",
   "execution_count": 2,
   "metadata": {},
   "outputs": [],
   "source": [
    "# import the stocks of S&P 500 technology sector\n",
    "SPTech = pd.read_csv('sectors_technology.csv')"
   ]
  },
  {
   "cell_type": "code",
   "execution_count": 3,
   "metadata": {},
   "outputs": [
    {
     "data": {
      "text/html": [
       "<div>\n",
       "<style scoped>\n",
       "    .dataframe tbody tr th:only-of-type {\n",
       "        vertical-align: middle;\n",
       "    }\n",
       "\n",
       "    .dataframe tbody tr th {\n",
       "        vertical-align: top;\n",
       "    }\n",
       "\n",
       "    .dataframe thead th {\n",
       "        text-align: right;\n",
       "    }\n",
       "</style>\n",
       "<table border=\"1\" class=\"dataframe\">\n",
       "  <thead>\n",
       "    <tr style=\"text-align: right;\">\n",
       "      <th></th>\n",
       "      <th>Symbol</th>\n",
       "      <th>Name</th>\n",
       "      <th>Market Cap</th>\n",
       "      <th>P/E ttm</th>\n",
       "      <th>EPS ttm</th>\n",
       "      <th>Net Income(a)</th>\n",
       "      <th>Beta</th>\n",
       "      <th>Dividend(a)</th>\n",
       "      <th>Div Yield</th>\n",
       "    </tr>\n",
       "  </thead>\n",
       "  <tbody>\n",
       "    <tr>\n",
       "      <th>0</th>\n",
       "      <td>AAPL</td>\n",
       "      <td>Apple Inc</td>\n",
       "      <td>1.241626e+12</td>\n",
       "      <td>23.63</td>\n",
       "      <td>11.85</td>\n",
       "      <td>5.525600e+10</td>\n",
       "      <td>1.24</td>\n",
       "      <td>3.08</td>\n",
       "      <td>1.10%</td>\n",
       "    </tr>\n",
       "    <tr>\n",
       "      <th>1</th>\n",
       "      <td>ACN</td>\n",
       "      <td>Accenture Plc</td>\n",
       "      <td>1.341904e+11</td>\n",
       "      <td>27.81</td>\n",
       "      <td>7.36</td>\n",
       "      <td>4.779110e+09</td>\n",
       "      <td>1.04</td>\n",
       "      <td>3.20</td>\n",
       "      <td>1.52%</td>\n",
       "    </tr>\n",
       "    <tr>\n",
       "      <th>2</th>\n",
       "      <td>ADBE</td>\n",
       "      <td>Adobe Systems Inc</td>\n",
       "      <td>1.585891e+11</td>\n",
       "      <td>50.33</td>\n",
       "      <td>6.51</td>\n",
       "      <td>2.951460e+09</td>\n",
       "      <td>1.11</td>\n",
       "      <td>0.00</td>\n",
       "      <td>0.00%</td>\n",
       "    </tr>\n",
       "    <tr>\n",
       "      <th>3</th>\n",
       "      <td>ADI</td>\n",
       "      <td>Analog Devices</td>\n",
       "      <td>4.412994e+10</td>\n",
       "      <td>23.09</td>\n",
       "      <td>5.14</td>\n",
       "      <td>1.363010e+09</td>\n",
       "      <td>1.41</td>\n",
       "      <td>2.16</td>\n",
       "      <td>1.80%</td>\n",
       "    </tr>\n",
       "    <tr>\n",
       "      <th>4</th>\n",
       "      <td>ADP</td>\n",
       "      <td>Automatic Data Procs</td>\n",
       "      <td>7.403030e+10</td>\n",
       "      <td>30.19</td>\n",
       "      <td>5.59</td>\n",
       "      <td>2.292800e+09</td>\n",
       "      <td>0.88</td>\n",
       "      <td>3.64</td>\n",
       "      <td>2.13%</td>\n",
       "    </tr>\n",
       "  </tbody>\n",
       "</table>\n",
       "</div>"
      ],
      "text/plain": [
       "  Symbol                  Name    Market Cap  P/E ttm  EPS ttm  Net Income(a)  \\\n",
       "0   AAPL             Apple Inc  1.241626e+12    23.63    11.85   5.525600e+10   \n",
       "1    ACN         Accenture Plc  1.341904e+11    27.81     7.36   4.779110e+09   \n",
       "2   ADBE     Adobe Systems Inc  1.585891e+11    50.33     6.51   2.951460e+09   \n",
       "3    ADI        Analog Devices  4.412994e+10    23.09     5.14   1.363010e+09   \n",
       "4    ADP  Automatic Data Procs  7.403030e+10    30.19     5.59   2.292800e+09   \n",
       "\n",
       "   Beta  Dividend(a) Div Yield  \n",
       "0  1.24         3.08     1.10%  \n",
       "1  1.04         3.20     1.52%  \n",
       "2  1.11         0.00     0.00%  \n",
       "3  1.41         2.16     1.80%  \n",
       "4  0.88         3.64     2.13%  "
      ]
     },
     "execution_count": 3,
     "metadata": {},
     "output_type": "execute_result"
    }
   ],
   "source": [
    "SPTech.head()"
   ]
  },
  {
   "cell_type": "code",
   "execution_count": 4,
   "metadata": {},
   "outputs": [],
   "source": [
    "# take Symbol as index\n",
    "SPTech = SPTech.set_index('Symbol')"
   ]
  },
  {
   "cell_type": "code",
   "execution_count": 5,
   "metadata": {},
   "outputs": [],
   "source": [
    "# sort the data by ascending\n",
    "SPTech = SPTech.sort_values(by=['P/E ttm'])[:10]"
   ]
  },
  {
   "cell_type": "code",
   "execution_count": 6,
   "metadata": {},
   "outputs": [
    {
     "data": {
      "text/html": [
       "<div>\n",
       "<style scoped>\n",
       "    .dataframe tbody tr th:only-of-type {\n",
       "        vertical-align: middle;\n",
       "    }\n",
       "\n",
       "    .dataframe tbody tr th {\n",
       "        vertical-align: top;\n",
       "    }\n",
       "\n",
       "    .dataframe thead th {\n",
       "        text-align: right;\n",
       "    }\n",
       "</style>\n",
       "<table border=\"1\" class=\"dataframe\">\n",
       "  <thead>\n",
       "    <tr style=\"text-align: right;\">\n",
       "      <th></th>\n",
       "      <th>Name</th>\n",
       "      <th>Market Cap</th>\n",
       "      <th>P/E ttm</th>\n",
       "      <th>EPS ttm</th>\n",
       "      <th>Net Income(a)</th>\n",
       "      <th>Beta</th>\n",
       "      <th>Dividend(a)</th>\n",
       "      <th>Div Yield</th>\n",
       "    </tr>\n",
       "    <tr>\n",
       "      <th>Symbol</th>\n",
       "      <th></th>\n",
       "      <th></th>\n",
       "      <th></th>\n",
       "      <th></th>\n",
       "      <th></th>\n",
       "      <th></th>\n",
       "      <th></th>\n",
       "      <th></th>\n",
       "    </tr>\n",
       "  </thead>\n",
       "  <tbody>\n",
       "    <tr>\n",
       "      <th>DXC</th>\n",
       "      <td>Dxc Technology Company</td>\n",
       "      <td>9.620405e+09</td>\n",
       "      <td>5.01</td>\n",
       "      <td>7.54</td>\n",
       "      <td>1.257000e+09</td>\n",
       "      <td>2.03</td>\n",
       "      <td>0.84</td>\n",
       "      <td>2.24%</td>\n",
       "    </tr>\n",
       "    <tr>\n",
       "      <th>ADS</th>\n",
       "      <td>Alliance Data Systems Corp</td>\n",
       "      <td>5.125571e+09</td>\n",
       "      <td>5.79</td>\n",
       "      <td>19.02</td>\n",
       "      <td>9.631000e+08</td>\n",
       "      <td>1.65</td>\n",
       "      <td>2.52</td>\n",
       "      <td>2.26%</td>\n",
       "    </tr>\n",
       "    <tr>\n",
       "      <th>HPE</th>\n",
       "      <td>Hewlett Packard Enterprise Comp</td>\n",
       "      <td>2.014379e+10</td>\n",
       "      <td>8.84</td>\n",
       "      <td>1.78</td>\n",
       "      <td>1.049000e+09</td>\n",
       "      <td>1.56</td>\n",
       "      <td>0.48</td>\n",
       "      <td>3.08%</td>\n",
       "    </tr>\n",
       "    <tr>\n",
       "      <th>XRX</th>\n",
       "      <td>Xerox Corp</td>\n",
       "      <td>8.074622e+09</td>\n",
       "      <td>8.99</td>\n",
       "      <td>4.12</td>\n",
       "      <td>3.610000e+08</td>\n",
       "      <td>1.83</td>\n",
       "      <td>1.00</td>\n",
       "      <td>2.68%</td>\n",
       "    </tr>\n",
       "    <tr>\n",
       "      <th>HPQ</th>\n",
       "      <td>Hp Inc</td>\n",
       "      <td>2.987754e+10</td>\n",
       "      <td>9.10</td>\n",
       "      <td>2.23</td>\n",
       "      <td>3.152000e+09</td>\n",
       "      <td>1.44</td>\n",
       "      <td>0.70</td>\n",
       "      <td>3.43%</td>\n",
       "    </tr>\n",
       "    <tr>\n",
       "      <th>IBM</th>\n",
       "      <td>International Business Machines</td>\n",
       "      <td>1.200835e+11</td>\n",
       "      <td>10.37</td>\n",
       "      <td>12.97</td>\n",
       "      <td>8.728000e+09</td>\n",
       "      <td>1.34</td>\n",
       "      <td>6.48</td>\n",
       "      <td>4.78%</td>\n",
       "    </tr>\n",
       "    <tr>\n",
       "      <th>INTC</th>\n",
       "      <td>Intel Corp</td>\n",
       "      <td>2.564325e+11</td>\n",
       "      <td>12.46</td>\n",
       "      <td>4.65</td>\n",
       "      <td>2.105300e+10</td>\n",
       "      <td>0.91</td>\n",
       "      <td>1.26</td>\n",
       "      <td>2.14%</td>\n",
       "    </tr>\n",
       "    <tr>\n",
       "      <th>STX</th>\n",
       "      <td>Seagate Tech Ord Shs</td>\n",
       "      <td>1.566283e+10</td>\n",
       "      <td>14.15</td>\n",
       "      <td>4.13</td>\n",
       "      <td>2.012000e+09</td>\n",
       "      <td>1.62</td>\n",
       "      <td>2.52</td>\n",
       "      <td>4.23%</td>\n",
       "    </tr>\n",
       "    <tr>\n",
       "      <th>WU</th>\n",
       "      <td>Western Union Company</td>\n",
       "      <td>1.150019e+10</td>\n",
       "      <td>14.93</td>\n",
       "      <td>1.82</td>\n",
       "      <td>8.519000e+08</td>\n",
       "      <td>0.81</td>\n",
       "      <td>0.80</td>\n",
       "      <td>2.92%</td>\n",
       "    </tr>\n",
       "    <tr>\n",
       "      <th>MU</th>\n",
       "      <td>Micron Technology</td>\n",
       "      <td>6.101760e+10</td>\n",
       "      <td>15.19</td>\n",
       "      <td>6.10</td>\n",
       "      <td>6.313000e+09</td>\n",
       "      <td>1.96</td>\n",
       "      <td>0.00</td>\n",
       "      <td>0.00%</td>\n",
       "    </tr>\n",
       "  </tbody>\n",
       "</table>\n",
       "</div>"
      ],
      "text/plain": [
       "                                   Name    Market Cap  P/E ttm  EPS ttm  \\\n",
       "Symbol                                                                    \n",
       "DXC              Dxc Technology Company  9.620405e+09     5.01     7.54   \n",
       "ADS          Alliance Data Systems Corp  5.125571e+09     5.79    19.02   \n",
       "HPE     Hewlett Packard Enterprise Comp  2.014379e+10     8.84     1.78   \n",
       "XRX                          Xerox Corp  8.074622e+09     8.99     4.12   \n",
       "HPQ                              Hp Inc  2.987754e+10     9.10     2.23   \n",
       "IBM     International Business Machines  1.200835e+11    10.37    12.97   \n",
       "INTC                         Intel Corp  2.564325e+11    12.46     4.65   \n",
       "STX                Seagate Tech Ord Shs  1.566283e+10    14.15     4.13   \n",
       "WU                Western Union Company  1.150019e+10    14.93     1.82   \n",
       "MU                    Micron Technology  6.101760e+10    15.19     6.10   \n",
       "\n",
       "        Net Income(a)  Beta  Dividend(a) Div Yield  \n",
       "Symbol                                              \n",
       "DXC      1.257000e+09  2.03         0.84     2.24%  \n",
       "ADS      9.631000e+08  1.65         2.52     2.26%  \n",
       "HPE      1.049000e+09  1.56         0.48     3.08%  \n",
       "XRX      3.610000e+08  1.83         1.00     2.68%  \n",
       "HPQ      3.152000e+09  1.44         0.70     3.43%  \n",
       "IBM      8.728000e+09  1.34         6.48     4.78%  \n",
       "INTC     2.105300e+10  0.91         1.26     2.14%  \n",
       "STX      2.012000e+09  1.62         2.52     4.23%  \n",
       "WU       8.519000e+08  0.81         0.80     2.92%  \n",
       "MU       6.313000e+09  1.96         0.00     0.00%  "
      ]
     },
     "execution_count": 6,
     "metadata": {},
     "output_type": "execute_result"
    }
   ],
   "source": [
    "SPTech"
   ]
  },
  {
   "cell_type": "code",
   "execution_count": 7,
   "metadata": {},
   "outputs": [],
   "source": [
    "# HPE started from 2015, however we hope the data at least 10 years, so HPE is eliminated.\n",
    "SPTech = SPTech.drop('HPE')"
   ]
  },
  {
   "cell_type": "code",
   "execution_count": 8,
   "metadata": {},
   "outputs": [],
   "source": [
    "# create the stock list of the ten stocks above\n",
    "stock_lists = SPTech.index"
   ]
  },
  {
   "cell_type": "code",
   "execution_count": 9,
   "metadata": {},
   "outputs": [
    {
     "data": {
      "text/plain": [
       "Index(['DXC', 'ADS', 'XRX', 'HPQ', 'IBM', 'INTC', 'STX', 'WU', 'MU'], dtype='object', name='Symbol')"
      ]
     },
     "execution_count": 9,
     "metadata": {},
     "output_type": "execute_result"
    }
   ],
   "source": [
    "stock_lists"
   ]
  },
  {
   "cell_type": "code",
   "execution_count": 10,
   "metadata": {},
   "outputs": [],
   "source": [
    "# download the stocks data from yahoo finance\n",
    "data = web.DataReader(stock_lists,data_source='yahoo',start='01/01/2009')['Adj Close']"
   ]
  },
  {
   "cell_type": "code",
   "execution_count": 11,
   "metadata": {},
   "outputs": [],
   "source": [
    "data.sort_index(inplace=True)"
   ]
  },
  {
   "cell_type": "code",
   "execution_count": 12,
   "metadata": {},
   "outputs": [],
   "source": [
    "# (P1-P0) / P0\n",
    "returns = data.pct_change()"
   ]
  },
  {
   "cell_type": "code",
   "execution_count": 13,
   "metadata": {},
   "outputs": [],
   "source": [
    "# calculate the mean of daily return\n",
    "mean_daily_returns = returns.mean()\n",
    "# calculate the annual return\n",
    "annualised_return = round(mean_daily_returns * 252,2)"
   ]
  },
  {
   "cell_type": "code",
   "execution_count": 14,
   "metadata": {},
   "outputs": [],
   "source": [
    "# calculate the standard deviation of each stock\n",
    "return_stdev = returns.std()\n",
    "# calculate the annual standard deviation\n",
    "annualised_stdev = round(return_stdev * np.sqrt(252),2)"
   ]
  },
  {
   "cell_type": "code",
   "execution_count": 15,
   "metadata": {},
   "outputs": [],
   "source": [
    "# caluculate the sharpe ratio\n",
    "sharpe_ratio = (annualised_return) / annualised_stdev"
   ]
  },
  {
   "cell_type": "code",
   "execution_count": 16,
   "metadata": {},
   "outputs": [
    {
     "data": {
      "text/plain": [
       "Symbols\n",
       "ADS     0.419355\n",
       "DXC     0.514286\n",
       "HPQ     0.343750\n",
       "IBM     0.450000\n",
       "INTC    0.730769\n",
       "MU      0.780000\n",
       "STX     0.804348\n",
       "WU      0.444444\n",
       "XRX     0.363636\n",
       "dtype: float64"
      ]
     },
     "execution_count": 16,
     "metadata": {},
     "output_type": "execute_result"
    }
   ],
   "source": [
    "sharpe_ratio"
   ]
  },
  {
   "cell_type": "code",
   "execution_count": 17,
   "metadata": {},
   "outputs": [],
   "source": [
    "stocks = ['MU', 'STX', 'INTC', 'DXC', 'IBM']"
   ]
  },
  {
   "cell_type": "code",
   "execution_count": 18,
   "metadata": {},
   "outputs": [
    {
     "data": {
      "text/html": [
       "<div>\n",
       "<style scoped>\n",
       "    .dataframe tbody tr th:only-of-type {\n",
       "        vertical-align: middle;\n",
       "    }\n",
       "\n",
       "    .dataframe tbody tr th {\n",
       "        vertical-align: top;\n",
       "    }\n",
       "\n",
       "    .dataframe thead th {\n",
       "        text-align: right;\n",
       "    }\n",
       "</style>\n",
       "<table border=\"1\" class=\"dataframe\">\n",
       "  <thead>\n",
       "    <tr style=\"text-align: right;\">\n",
       "      <th>Symbols</th>\n",
       "      <th>DXC</th>\n",
       "      <th>IBM</th>\n",
       "      <th>INTC</th>\n",
       "      <th>MU</th>\n",
       "      <th>STX</th>\n",
       "    </tr>\n",
       "    <tr>\n",
       "      <th>Date</th>\n",
       "      <th></th>\n",
       "      <th></th>\n",
       "      <th></th>\n",
       "      <th></th>\n",
       "      <th></th>\n",
       "    </tr>\n",
       "  </thead>\n",
       "  <tbody>\n",
       "    <tr>\n",
       "      <th>2009-01-02</th>\n",
       "      <td>NaN</td>\n",
       "      <td>NaN</td>\n",
       "      <td>NaN</td>\n",
       "      <td>NaN</td>\n",
       "      <td>NaN</td>\n",
       "    </tr>\n",
       "    <tr>\n",
       "      <th>2009-01-05</th>\n",
       "      <td>0.012399</td>\n",
       "      <td>-0.006295</td>\n",
       "      <td>-0.019079</td>\n",
       "      <td>0.169014</td>\n",
       "      <td>0.011811</td>\n",
       "    </tr>\n",
       "    <tr>\n",
       "      <th>2009-01-06</th>\n",
       "      <td>0.052449</td>\n",
       "      <td>0.027759</td>\n",
       "      <td>0.030852</td>\n",
       "      <td>0.045181</td>\n",
       "      <td>0.124514</td>\n",
       "    </tr>\n",
       "    <tr>\n",
       "      <th>2009-01-07</th>\n",
       "      <td>-0.041488</td>\n",
       "      <td>-0.016138</td>\n",
       "      <td>-0.060508</td>\n",
       "      <td>-0.054755</td>\n",
       "      <td>-0.070934</td>\n",
       "    </tr>\n",
       "    <tr>\n",
       "      <th>2009-01-08</th>\n",
       "      <td>-0.029031</td>\n",
       "      <td>-0.006948</td>\n",
       "      <td>0.007618</td>\n",
       "      <td>0.039634</td>\n",
       "      <td>0.042830</td>\n",
       "    </tr>\n",
       "  </tbody>\n",
       "</table>\n",
       "</div>"
      ],
      "text/plain": [
       "Symbols          DXC       IBM      INTC        MU       STX\n",
       "Date                                                        \n",
       "2009-01-02       NaN       NaN       NaN       NaN       NaN\n",
       "2009-01-05  0.012399 -0.006295 -0.019079  0.169014  0.011811\n",
       "2009-01-06  0.052449  0.027759  0.030852  0.045181  0.124514\n",
       "2009-01-07 -0.041488 -0.016138 -0.060508 -0.054755 -0.070934\n",
       "2009-01-08 -0.029031 -0.006948  0.007618  0.039634  0.042830"
      ]
     },
     "execution_count": 18,
     "metadata": {},
     "output_type": "execute_result"
    }
   ],
   "source": [
    "data = web.DataReader(stocks,data_source='yahoo',start='01/01/2009')['Adj Close']\n",
    "data.sort_index(inplace=True)\n",
    "returns = data.pct_change()\n",
    "returns.head()"
   ]
  },
  {
   "cell_type": "code",
   "execution_count": 19,
   "metadata": {},
   "outputs": [
    {
     "data": {
      "text/plain": [
       "Symbols\n",
       "DXC     0.000712\n",
       "IBM     0.000357\n",
       "INTC    0.000752\n",
       "MU      0.001563\n",
       "STX     0.001475\n",
       "dtype: float64"
      ]
     },
     "execution_count": 19,
     "metadata": {},
     "output_type": "execute_result"
    }
   ],
   "source": [
    "mean_daily_returns = returns.mean()\n",
    "# calculate covariance of daily returns\n",
    "cov_matrix = returns.cov()\n",
    "mean_daily_returns"
   ]
  },
  {
   "cell_type": "code",
   "execution_count": 20,
   "metadata": {},
   "outputs": [
    {
     "data": {
      "text/html": [
       "<div>\n",
       "<style scoped>\n",
       "    .dataframe tbody tr th:only-of-type {\n",
       "        vertical-align: middle;\n",
       "    }\n",
       "\n",
       "    .dataframe tbody tr th {\n",
       "        vertical-align: top;\n",
       "    }\n",
       "\n",
       "    .dataframe thead th {\n",
       "        text-align: right;\n",
       "    }\n",
       "</style>\n",
       "<table border=\"1\" class=\"dataframe\">\n",
       "  <thead>\n",
       "    <tr style=\"text-align: right;\">\n",
       "      <th>Symbols</th>\n",
       "      <th>DXC</th>\n",
       "      <th>IBM</th>\n",
       "      <th>INTC</th>\n",
       "      <th>MU</th>\n",
       "      <th>STX</th>\n",
       "    </tr>\n",
       "    <tr>\n",
       "      <th>Symbols</th>\n",
       "      <th></th>\n",
       "      <th></th>\n",
       "      <th></th>\n",
       "      <th></th>\n",
       "      <th></th>\n",
       "    </tr>\n",
       "  </thead>\n",
       "  <tbody>\n",
       "    <tr>\n",
       "      <th>DXC</th>\n",
       "      <td>0.000500</td>\n",
       "      <td>0.000116</td>\n",
       "      <td>0.000135</td>\n",
       "      <td>0.000246</td>\n",
       "      <td>0.000204</td>\n",
       "    </tr>\n",
       "    <tr>\n",
       "      <th>IBM</th>\n",
       "      <td>0.000116</td>\n",
       "      <td>0.000166</td>\n",
       "      <td>0.000102</td>\n",
       "      <td>0.000164</td>\n",
       "      <td>0.000135</td>\n",
       "    </tr>\n",
       "    <tr>\n",
       "      <th>INTC</th>\n",
       "      <td>0.000135</td>\n",
       "      <td>0.000102</td>\n",
       "      <td>0.000266</td>\n",
       "      <td>0.000273</td>\n",
       "      <td>0.000212</td>\n",
       "    </tr>\n",
       "    <tr>\n",
       "      <th>MU</th>\n",
       "      <td>0.000246</td>\n",
       "      <td>0.000164</td>\n",
       "      <td>0.000273</td>\n",
       "      <td>0.001004</td>\n",
       "      <td>0.000403</td>\n",
       "    </tr>\n",
       "    <tr>\n",
       "      <th>STX</th>\n",
       "      <td>0.000204</td>\n",
       "      <td>0.000135</td>\n",
       "      <td>0.000212</td>\n",
       "      <td>0.000403</td>\n",
       "      <td>0.000839</td>\n",
       "    </tr>\n",
       "  </tbody>\n",
       "</table>\n",
       "</div>"
      ],
      "text/plain": [
       "Symbols       DXC       IBM      INTC        MU       STX\n",
       "Symbols                                                  \n",
       "DXC      0.000500  0.000116  0.000135  0.000246  0.000204\n",
       "IBM      0.000116  0.000166  0.000102  0.000164  0.000135\n",
       "INTC     0.000135  0.000102  0.000266  0.000273  0.000212\n",
       "MU       0.000246  0.000164  0.000273  0.001004  0.000403\n",
       "STX      0.000204  0.000135  0.000212  0.000403  0.000839"
      ]
     },
     "execution_count": 20,
     "metadata": {},
     "output_type": "execute_result"
    }
   ],
   "source": [
    "cov_matrix"
   ]
  },
  {
   "cell_type": "code",
   "execution_count": 21,
   "metadata": {},
   "outputs": [],
   "source": [
    "# Monte Carlo simulation\n",
    "# to run number of runs different randomly generated weights for the individual stocks\n",
    "# set number of runs of random portfolio weights\n",
    "num_portfolios = 25000"
   ]
  },
  {
   "cell_type": "code",
   "execution_count": 22,
   "metadata": {},
   "outputs": [
    {
     "data": {
      "text/plain": [
       "array([[0., 0., 0., ..., 0., 0., 0.],\n",
       "       [0., 0., 0., ..., 0., 0., 0.],\n",
       "       [0., 0., 0., ..., 0., 0., 0.]])"
      ]
     },
     "execution_count": 22,
     "metadata": {},
     "output_type": "execute_result"
    }
   ],
   "source": [
    "# set up array to hold results\n",
    "# create a 3X25000 array filled with zero\n",
    "# 3:portfolio return, portfolio std, sharp ratio\n",
    "results = np.zeros((3,num_portfolios))\n",
    "results"
   ]
  },
  {
   "cell_type": "code",
   "execution_count": 23,
   "metadata": {},
   "outputs": [],
   "source": [
    "for i in range(num_portfolios):\n",
    "    weights = np.random.random(5) #select random weights for portfolio holdings\n",
    "    weights /= np.sum(weights) #rebalance weights to sum to 1\n",
    "    portfolio_return = np.sum(mean_daily_returns * weights) * 252\n",
    "    portfolio_std_dev = np.sqrt(np.dot(weights.T,np.dot(cov_matrix, weights))) * np.sqrt(252)\n",
    "    results[0,i] = portfolio_return\n",
    "    results[1,i] = portfolio_std_dev\n",
    "    results[2,i] = (results[0,i]) / results[1,i] #sharp ratio"
   ]
  },
  {
   "cell_type": "code",
   "execution_count": 24,
   "metadata": {},
   "outputs": [
    {
     "data": {
      "text/html": [
       "<div>\n",
       "<style scoped>\n",
       "    .dataframe tbody tr th:only-of-type {\n",
       "        vertical-align: middle;\n",
       "    }\n",
       "\n",
       "    .dataframe tbody tr th {\n",
       "        vertical-align: top;\n",
       "    }\n",
       "\n",
       "    .dataframe thead th {\n",
       "        text-align: right;\n",
       "    }\n",
       "</style>\n",
       "<table border=\"1\" class=\"dataframe\">\n",
       "  <thead>\n",
       "    <tr style=\"text-align: right;\">\n",
       "      <th></th>\n",
       "      <th>ret</th>\n",
       "      <th>stdev</th>\n",
       "      <th>sharpe</th>\n",
       "    </tr>\n",
       "  </thead>\n",
       "  <tbody>\n",
       "    <tr>\n",
       "      <th>0</th>\n",
       "      <td>0.291132</td>\n",
       "      <td>0.307262</td>\n",
       "      <td>0.947504</td>\n",
       "    </tr>\n",
       "    <tr>\n",
       "      <th>1</th>\n",
       "      <td>0.195429</td>\n",
       "      <td>0.231735</td>\n",
       "      <td>0.843331</td>\n",
       "    </tr>\n",
       "    <tr>\n",
       "      <th>2</th>\n",
       "      <td>0.276430</td>\n",
       "      <td>0.294242</td>\n",
       "      <td>0.939465</td>\n",
       "    </tr>\n",
       "    <tr>\n",
       "      <th>3</th>\n",
       "      <td>0.253549</td>\n",
       "      <td>0.266581</td>\n",
       "      <td>0.951117</td>\n",
       "    </tr>\n",
       "    <tr>\n",
       "      <th>4</th>\n",
       "      <td>0.267774</td>\n",
       "      <td>0.291132</td>\n",
       "      <td>0.919770</td>\n",
       "    </tr>\n",
       "  </tbody>\n",
       "</table>\n",
       "</div>"
      ],
      "text/plain": [
       "        ret     stdev    sharpe\n",
       "0  0.291132  0.307262  0.947504\n",
       "1  0.195429  0.231735  0.843331\n",
       "2  0.276430  0.294242  0.939465\n",
       "3  0.253549  0.266581  0.951117\n",
       "4  0.267774  0.291132  0.919770"
      ]
     },
     "execution_count": 24,
     "metadata": {},
     "output_type": "execute_result"
    }
   ],
   "source": [
    "results_frame = pd.DataFrame(results.T,columns=['ret','stdev','sharpe'])\n",
    "results_frame.head()"
   ]
  },
  {
   "cell_type": "code",
   "execution_count": 25,
   "metadata": {},
   "outputs": [
    {
     "data": {
      "text/plain": [
       "<matplotlib.colorbar.Colorbar at 0x1b5636b1e48>"
      ]
     },
     "execution_count": 25,
     "metadata": {},
     "output_type": "execute_result"
    },
    {
     "data": {
      "image/png": "[encoded data removed]",
      "text/plain": [
       "<Figure size 432x288 with 2 Axes>"
      ]
     },
     "metadata": {
      "needs_background": "light"
     },
     "output_type": "display_data"
    }
   ],
   "source": [
    "plt.scatter(results_frame.stdev,results_frame.ret,c=results_frame.sharpe,cmap='RdYlBu')\n",
    "plt.xlabel('Volatility')\n",
    "plt.ylabel('Returns')\n",
    "plt.colorbar()"
   ]
  },
  {
   "cell_type": "code",
   "execution_count": 26,
   "metadata": {},
   "outputs": [],
   "source": [
    "# find out the protfolio with the highest Sharpe Ratio and the lowest standard deviation"
   ]
  },
  {
   "cell_type": "code",
   "execution_count": 27,
   "metadata": {},
   "outputs": [],
   "source": [
    "# 4+len(stocks)-1:portfolio return, portfolio std, sharp ratio and the weight values for each stock"
   ]
  },
  {
   "cell_type": "code",
   "execution_count": 28,
   "metadata": {},
   "outputs": [],
   "source": [
    "results = np.zeros((4+len(stocks)-1,num_portfolios))\n",
    "\n",
    "for i in range(num_portfolios):\n",
    "    weights = np.array(np.random.random(5))\n",
    "    weights /= np.sum(weights)\n",
    "    portfolio_return = np.sum(mean_daily_returns * weights) * 252\n",
    "    portfolio_std_dev = np.sqrt(np.dot(weights.T,np.dot(cov_matrix, weights))) * np.sqrt(252)\n",
    "    results[0,i] = portfolio_return\n",
    "    results[1,i] = portfolio_std_dev\n",
    "    results[2,i] = (results[0,i]) / results[1,i]\n",
    "    for j in range(len(weights)):\n",
    "        results[j+3,i] = weights[j]"
   ]
  },
  {
   "cell_type": "code",
   "execution_count": 29,
   "metadata": {},
   "outputs": [
    {
     "data": {
      "text/html": [
       "<div>\n",
       "<style scoped>\n",
       "    .dataframe tbody tr th:only-of-type {\n",
       "        vertical-align: middle;\n",
       "    }\n",
       "\n",
       "    .dataframe tbody tr th {\n",
       "        vertical-align: top;\n",
       "    }\n",
       "\n",
       "    .dataframe thead th {\n",
       "        text-align: right;\n",
       "    }\n",
       "</style>\n",
       "<table border=\"1\" class=\"dataframe\">\n",
       "  <thead>\n",
       "    <tr style=\"text-align: right;\">\n",
       "      <th></th>\n",
       "      <th>ret</th>\n",
       "      <th>stdev</th>\n",
       "      <th>sharpe</th>\n",
       "      <th>MU</th>\n",
       "      <th>STX</th>\n",
       "      <th>INTC</th>\n",
       "      <th>DXC</th>\n",
       "      <th>IBM</th>\n",
       "    </tr>\n",
       "  </thead>\n",
       "  <tbody>\n",
       "    <tr>\n",
       "      <th>0</th>\n",
       "      <td>0.270248</td>\n",
       "      <td>0.281799</td>\n",
       "      <td>0.959008</td>\n",
       "      <td>0.085763</td>\n",
       "      <td>0.154065</td>\n",
       "      <td>0.259673</td>\n",
       "      <td>0.257846</td>\n",
       "      <td>0.242653</td>\n",
       "    </tr>\n",
       "    <tr>\n",
       "      <th>1</th>\n",
       "      <td>0.233060</td>\n",
       "      <td>0.250359</td>\n",
       "      <td>0.930905</td>\n",
       "      <td>0.043373</td>\n",
       "      <td>0.310596</td>\n",
       "      <td>0.250262</td>\n",
       "      <td>0.123769</td>\n",
       "      <td>0.272000</td>\n",
       "    </tr>\n",
       "    <tr>\n",
       "      <th>2</th>\n",
       "      <td>0.209007</td>\n",
       "      <td>0.234349</td>\n",
       "      <td>0.891864</td>\n",
       "      <td>0.171156</td>\n",
       "      <td>0.372281</td>\n",
       "      <td>0.156309</td>\n",
       "      <td>0.158636</td>\n",
       "      <td>0.141617</td>\n",
       "    </tr>\n",
       "    <tr>\n",
       "      <th>3</th>\n",
       "      <td>0.228435</td>\n",
       "      <td>0.259824</td>\n",
       "      <td>0.879193</td>\n",
       "      <td>0.239002</td>\n",
       "      <td>0.354426</td>\n",
       "      <td>0.017105</td>\n",
       "      <td>0.252780</td>\n",
       "      <td>0.136686</td>\n",
       "    </tr>\n",
       "    <tr>\n",
       "      <th>4</th>\n",
       "      <td>0.217972</td>\n",
       "      <td>0.249636</td>\n",
       "      <td>0.873159</td>\n",
       "      <td>0.256972</td>\n",
       "      <td>0.300511</td>\n",
       "      <td>0.111496</td>\n",
       "      <td>0.026831</td>\n",
       "      <td>0.304191</td>\n",
       "    </tr>\n",
       "  </tbody>\n",
       "</table>\n",
       "</div>"
      ],
      "text/plain": [
       "        ret     stdev    sharpe        MU       STX      INTC       DXC  \\\n",
       "0  0.270248  0.281799  0.959008  0.085763  0.154065  0.259673  0.257846   \n",
       "1  0.233060  0.250359  0.930905  0.043373  0.310596  0.250262  0.123769   \n",
       "2  0.209007  0.234349  0.891864  0.171156  0.372281  0.156309  0.158636   \n",
       "3  0.228435  0.259824  0.879193  0.239002  0.354426  0.017105  0.252780   \n",
       "4  0.217972  0.249636  0.873159  0.256972  0.300511  0.111496  0.026831   \n",
       "\n",
       "        IBM  \n",
       "0  0.242653  \n",
       "1  0.272000  \n",
       "2  0.141617  \n",
       "3  0.136686  \n",
       "4  0.304191  "
      ]
     },
     "execution_count": 29,
     "metadata": {},
     "output_type": "execute_result"
    }
   ],
   "source": [
    "results_frame = pd.DataFrame(results.T,columns=['ret','stdev','sharpe',stocks[0],stocks[1],stocks[2],stocks[3],stocks[4]])\n",
    "results_frame.head()"
   ]
  },
  {
   "cell_type": "code",
   "execution_count": 30,
   "metadata": {},
   "outputs": [],
   "source": [
    "# locate position of portfolio with highest Sharpe Ratio\n",
    "max_sharpe_port = results_frame.iloc[results_frame['sharpe'].idxmax()]"
   ]
  },
  {
   "cell_type": "code",
   "execution_count": 31,
   "metadata": {},
   "outputs": [],
   "source": [
    "# locate positon of portfolio with minimum standard deviation\n",
    "min_vol_port = results_frame.iloc[results_frame['stdev'].idxmin()]"
   ]
  },
  {
   "cell_type": "code",
   "execution_count": 32,
   "metadata": {},
   "outputs": [],
   "source": [
    "# locate positon of portfolio with maximum return\n",
    "max_return = results_frame.iloc[results_frame['ret'].idxmax()]"
   ]
  },
  {
   "cell_type": "code",
   "execution_count": 46,
   "metadata": {},
   "outputs": [
    {
     "data": {
      "text/plain": [
       "<matplotlib.collections.PathCollection at 0x1b5635d6e80>"
      ]
     },
     "execution_count": 46,
     "metadata": {},
     "output_type": "execute_result"
    },
    {
     "data": {
      "image/png": "[encoded data removed]",
      "text/plain": [
       "<Figure size 432x288 with 2 Axes>"
      ]
     },
     "metadata": {
      "needs_background": "light"
     },
     "output_type": "display_data"
    }
   ],
   "source": [
    "plt.scatter(results_frame.stdev,results_frame.ret,c=results_frame.sharpe,cmap='RdYlBu')\n",
    "plt.xlabel('Volatility')\n",
    "plt.ylabel('Returns')\n",
    "plt.colorbar()\n",
    "plt.scatter(max_sharpe_port[1],max_sharpe_port[0],marker=(5,1,0),color='r',s=250)\n",
    "plt.scatter(min_vol_port[1],min_vol_port[0],marker=(5,1,0),color='g',s=250)\n",
    "plt.scatter(max_return[1],max_return[0],marker=(5,1,0),color='y',s=250)"
   ]
  },
  {
   "cell_type": "code",
   "execution_count": 34,
   "metadata": {},
   "outputs": [
    {
     "name": "stdout",
     "output_type": "stream",
     "text": [
      "ret       0.291818\n",
      "stdev     0.299787\n",
      "sharpe    0.973418\n",
      "MU        0.110755\n",
      "STX       0.011351\n",
      "INTC      0.332180\n",
      "DXC       0.230270\n",
      "IBM       0.315445\n",
      "Name: 23330, dtype: float64\n"
     ]
    }
   ],
   "source": [
    "print(max_sharpe_port)"
   ]
  },
  {
   "cell_type": "code",
   "execution_count": 35,
   "metadata": {},
   "outputs": [
    {
     "name": "stdout",
     "output_type": "stream",
     "text": [
      "ret       0.139258\n",
      "stdev     0.195028\n",
      "sharpe    0.714041\n",
      "MU        0.122148\n",
      "STX       0.575357\n",
      "INTC      0.258013\n",
      "DXC       0.002799\n",
      "IBM       0.041682\n",
      "Name: 22826, dtype: float64\n"
     ]
    }
   ],
   "source": [
    "print(min_vol_port)"
   ]
  },
  {
   "cell_type": "code",
   "execution_count": 36,
   "metadata": {},
   "outputs": [
    {
     "name": "stdout",
     "output_type": "stream",
     "text": [
      "ret       0.375946\n",
      "stdev     0.401948\n",
      "sharpe    0.935309\n",
      "MU        0.008292\n",
      "STX       0.004000\n",
      "INTC      0.027074\n",
      "DXC       0.536403\n",
      "IBM       0.424232\n",
      "Name: 15856, dtype: float64\n"
     ]
    }
   ],
   "source": [
    "print(max_return)"
   ]
  },
  {
   "cell_type": "code",
   "execution_count": 37,
   "metadata": {},
   "outputs": [],
   "source": [
    "cal_return = returns.copy()"
   ]
  },
  {
   "cell_type": "code",
   "execution_count": 38,
   "metadata": {},
   "outputs": [],
   "source": [
    "numstocks = len(stocks)\n",
    "MSR_weights = np.array(max_return[3:])\n",
    "cal_return['Portfolio_MSR'] = returns.mul(MSR_weights, axis = 1).sum(axis=1)"
   ]
  },
  {
   "cell_type": "code",
   "execution_count": 39,
   "metadata": {},
   "outputs": [],
   "source": [
    "def cumulative_returns_plot(name_list):\n",
    "    for name in name_list:\n",
    "        cumulativereturns = ((1+cal_return[name]).cumprod()-1)\n",
    "        cumulativereturns.plot(label=name)\n",
    "        plt.legend()\n",
    "    plt.show()"
   ]
  },
  {
   "cell_type": "code",
   "execution_count": 40,
   "metadata": {},
   "outputs": [
    {
     "data": {
      "image/png": "[encoded data removed]",
      "text/plain": [
       "<Figure size 432x288 with 1 Axes>"
      ]
     },
     "metadata": {
      "needs_background": "light"
     },
     "output_type": "display_data"
    }
   ],
   "source": [
    "cumulative_returns_plot(['Portfolio_MSR'])"
   ]
  },
  {
   "cell_type": "code",
   "execution_count": 41,
   "metadata": {},
   "outputs": [
    {
     "data": {
      "image/png": "[encoded data removed]",
      "text/plain": [
       "<Figure size 432x288 with 1 Axes>"
      ]
     },
     "metadata": {
      "needs_background": "light"
     },
     "output_type": "display_data"
    }
   ],
   "source": [
    "MinV_weights = np.array(min_vol_port[3:])\n",
    "cal_return['Portfolio_MinV'] = returns.mul(MinV_weights, axis = 1).sum(axis=1)\n",
    "cumulative_returns_plot(['Portfolio_MSR','Portfolio_MinV'])"
   ]
  },
  {
   "cell_type": "code",
   "execution_count": 42,
   "metadata": {},
   "outputs": [
    {
     "data": {
      "image/png": "[encoded data removed]",
      "text/plain": [
       "<Figure size 432x288 with 1 Axes>"
      ]
     },
     "metadata": {
      "needs_background": "light"
     },
     "output_type": "display_data"
    }
   ],
   "source": [
    "EW_weights = np.repeat(1/numstocks, numstocks)\n",
    "cal_return['Portfolio_Ew'] = returns.mul(EW_weights, axis = 1).sum(axis=1)\n",
    "cumulative_returns_plot(['Portfolio_MSR','Portfolio_MinV','Portfolio_Ew'])"
   ]
  },
  {
   "cell_type": "code",
   "execution_count": 43,
   "metadata": {},
   "outputs": [
    {
     "data": {
      "image/png": "[encoded data removed]",
      "text/plain": [
       "<Figure size 432x288 with 1 Axes>"
      ]
     },
     "metadata": {
      "needs_background": "light"
     },
     "output_type": "display_data"
    }
   ],
   "source": [
    "SP500 = web.DataReader('^GSPC',data_source='yahoo',start='01/01/2009')['Adj Close']\n",
    "SP500.sort_index(inplace=True)\n",
    "SP500_returns = SP500.pct_change()\n",
    "cal_return['S&P500'] = SP500_returns\n",
    "cumulative_returns_plot(['Portfolio_MSR','Portfolio_MinV','Portfolio_Ew','S&P500'])"
   ]
  },
  {
   "cell_type": "code",
   "execution_count": null,
   "metadata": {},
   "outputs": [],
   "source": []
  }
 ],
 "metadata": {
  "kernelspec": {
   "display_name": "Python 3",
   "language": "python",
   "name": "python3"
  },
  "language_info": {
   "codemirror_mode": {
    "name": "ipython",
    "version": 3
   },
   "file_extension": ".py",
   "mimetype": "text/x-python",
   "name": "python",
   "nbconvert_exporter": "python",
   "pygments_lexer": "ipython3",
   "version": "3.7.3"
  }
 },
 "nbformat": 4,
 "nbformat_minor": 2
}
